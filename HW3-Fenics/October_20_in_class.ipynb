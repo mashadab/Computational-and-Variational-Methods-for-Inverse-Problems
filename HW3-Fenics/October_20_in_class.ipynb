{
 "cells": [
  {
   "cell_type": "code",
   "execution_count": 1,
   "id": "834cbe1f",
   "metadata": {},
   "outputs": [
    {
     "name": "stderr",
     "output_type": "stream",
     "text": [
      "/Users/afzal-admin/opt/anaconda3/envs/fenics_environment/lib/python3.9/site-packages/dolfin/jit/jit.py:121: RuntimeWarning: mpi4py.MPI.Status size changed, may indicate binary incompatibility. Expected 40 from C header, got 48 from PyObject\n",
      "  def compile_class(cpp_data, mpi_comm=MPI.comm_world):\n",
      "/Users/afzal-admin/opt/anaconda3/envs/fenics_environment/lib/python3.9/site-packages/dolfin/jit/jit.py:121: RuntimeWarning: mpi4py.MPI.Datatype size changed, may indicate binary incompatibility. Expected 24 from C header, got 32 from PyObject\n",
      "  def compile_class(cpp_data, mpi_comm=MPI.comm_world):\n",
      "/Users/afzal-admin/opt/anaconda3/envs/fenics_environment/lib/python3.9/site-packages/dolfin/jit/jit.py:121: RuntimeWarning: mpi4py.MPI.Request size changed, may indicate binary incompatibility. Expected 32 from C header, got 40 from PyObject\n",
      "  def compile_class(cpp_data, mpi_comm=MPI.comm_world):\n",
      "/Users/afzal-admin/opt/anaconda3/envs/fenics_environment/lib/python3.9/site-packages/dolfin/jit/jit.py:121: RuntimeWarning: mpi4py.MPI.Prequest size changed, may indicate binary incompatibility. Expected 32 from C header, got 40 from PyObject\n",
      "  def compile_class(cpp_data, mpi_comm=MPI.comm_world):\n",
      "/Users/afzal-admin/opt/anaconda3/envs/fenics_environment/lib/python3.9/site-packages/dolfin/jit/jit.py:121: RuntimeWarning: mpi4py.MPI.Grequest size changed, may indicate binary incompatibility. Expected 40 from C header, got 48 from PyObject\n",
      "  def compile_class(cpp_data, mpi_comm=MPI.comm_world):\n",
      "/Users/afzal-admin/opt/anaconda3/envs/fenics_environment/lib/python3.9/site-packages/dolfin/jit/jit.py:121: RuntimeWarning: mpi4py.MPI.Message size changed, may indicate binary incompatibility. Expected 32 from C header, got 40 from PyObject\n",
      "  def compile_class(cpp_data, mpi_comm=MPI.comm_world):\n",
      "/Users/afzal-admin/opt/anaconda3/envs/fenics_environment/lib/python3.9/site-packages/dolfin/jit/jit.py:121: RuntimeWarning: mpi4py.MPI.Op size changed, may indicate binary incompatibility. Expected 40 from C header, got 48 from PyObject\n",
      "  def compile_class(cpp_data, mpi_comm=MPI.comm_world):\n",
      "/Users/afzal-admin/opt/anaconda3/envs/fenics_environment/lib/python3.9/site-packages/dolfin/jit/jit.py:121: RuntimeWarning: mpi4py.MPI.Group size changed, may indicate binary incompatibility. Expected 24 from C header, got 32 from PyObject\n",
      "  def compile_class(cpp_data, mpi_comm=MPI.comm_world):\n",
      "/Users/afzal-admin/opt/anaconda3/envs/fenics_environment/lib/python3.9/site-packages/dolfin/jit/jit.py:121: RuntimeWarning: mpi4py.MPI.Info size changed, may indicate binary incompatibility. Expected 24 from C header, got 32 from PyObject\n",
      "  def compile_class(cpp_data, mpi_comm=MPI.comm_world):\n",
      "/Users/afzal-admin/opt/anaconda3/envs/fenics_environment/lib/python3.9/site-packages/dolfin/jit/jit.py:121: RuntimeWarning: mpi4py.MPI.Errhandler size changed, may indicate binary incompatibility. Expected 24 from C header, got 32 from PyObject\n",
      "  def compile_class(cpp_data, mpi_comm=MPI.comm_world):\n",
      "/Users/afzal-admin/opt/anaconda3/envs/fenics_environment/lib/python3.9/site-packages/dolfin/jit/jit.py:121: RuntimeWarning: mpi4py.MPI.Comm size changed, may indicate binary incompatibility. Expected 24 from C header, got 32 from PyObject\n",
      "  def compile_class(cpp_data, mpi_comm=MPI.comm_world):\n",
      "/Users/afzal-admin/opt/anaconda3/envs/fenics_environment/lib/python3.9/site-packages/dolfin/jit/jit.py:121: RuntimeWarning: mpi4py.MPI.Intracomm size changed, may indicate binary incompatibility. Expected 24 from C header, got 32 from PyObject\n",
      "  def compile_class(cpp_data, mpi_comm=MPI.comm_world):\n",
      "/Users/afzal-admin/opt/anaconda3/envs/fenics_environment/lib/python3.9/site-packages/dolfin/jit/jit.py:121: RuntimeWarning: mpi4py.MPI.Topocomm size changed, may indicate binary incompatibility. Expected 24 from C header, got 32 from PyObject\n",
      "  def compile_class(cpp_data, mpi_comm=MPI.comm_world):\n",
      "/Users/afzal-admin/opt/anaconda3/envs/fenics_environment/lib/python3.9/site-packages/dolfin/jit/jit.py:121: RuntimeWarning: mpi4py.MPI.Cartcomm size changed, may indicate binary incompatibility. Expected 24 from C header, got 32 from PyObject\n",
      "  def compile_class(cpp_data, mpi_comm=MPI.comm_world):\n",
      "/Users/afzal-admin/opt/anaconda3/envs/fenics_environment/lib/python3.9/site-packages/dolfin/jit/jit.py:121: RuntimeWarning: mpi4py.MPI.Graphcomm size changed, may indicate binary incompatibility. Expected 24 from C header, got 32 from PyObject\n",
      "  def compile_class(cpp_data, mpi_comm=MPI.comm_world):\n",
      "/Users/afzal-admin/opt/anaconda3/envs/fenics_environment/lib/python3.9/site-packages/dolfin/jit/jit.py:121: RuntimeWarning: mpi4py.MPI.Distgraphcomm size changed, may indicate binary incompatibility. Expected 24 from C header, got 32 from PyObject\n",
      "  def compile_class(cpp_data, mpi_comm=MPI.comm_world):\n",
      "/Users/afzal-admin/opt/anaconda3/envs/fenics_environment/lib/python3.9/site-packages/dolfin/jit/jit.py:121: RuntimeWarning: mpi4py.MPI.Intercomm size changed, may indicate binary incompatibility. Expected 24 from C header, got 32 from PyObject\n",
      "  def compile_class(cpp_data, mpi_comm=MPI.comm_world):\n",
      "/Users/afzal-admin/opt/anaconda3/envs/fenics_environment/lib/python3.9/site-packages/dolfin/jit/jit.py:121: RuntimeWarning: mpi4py.MPI.Win size changed, may indicate binary incompatibility. Expected 32 from C header, got 40 from PyObject\n",
      "  def compile_class(cpp_data, mpi_comm=MPI.comm_world):\n",
      "/Users/afzal-admin/opt/anaconda3/envs/fenics_environment/lib/python3.9/site-packages/dolfin/jit/jit.py:121: RuntimeWarning: mpi4py.MPI.File size changed, may indicate binary incompatibility. Expected 32 from C header, got 40 from PyObject\n",
      "  def compile_class(cpp_data, mpi_comm=MPI.comm_world):\n"
     ]
    }
   ],
   "source": [
    "import numpy as np\n",
    "import dolfin as dl\n",
    "import matplotlib.pyplot as plt"
   ]
  },
  {
   "cell_type": "code",
   "execution_count": 2,
   "id": "f395e6aa",
   "metadata": {},
   "outputs": [],
   "source": [
    "mesh = dl.UnitSquareMesh(2,1)"
   ]
  },
  {
   "cell_type": "code",
   "execution_count": 3,
   "id": "0c84efea",
   "metadata": {},
   "outputs": [
    {
     "data": {
      "text/plain": [
       "[<matplotlib.lines.Line2D at 0x7fb8189d4ac0>]"
      ]
     },
     "execution_count": 3,
     "metadata": {},
     "output_type": "execute_result"
    },
    {
     "data": {
      "image/png": "[encoded data removed]",
      "text/plain": [
       "<Figure size 432x288 with 1 Axes>"
      ]
     },
     "metadata": {
      "needs_background": "light"
     },
     "output_type": "display_data"
    }
   ],
   "source": [
    "dl.plot(mesh)\n",
    "plt.plot(mesh.coordinates()[:,0], mesh.coordinates()[:,1], '*r')"
   ]
  },
  {
   "cell_type": "code",
   "execution_count": 4,
   "id": "7319bf9e",
   "metadata": {},
   "outputs": [
    {
     "data": {
      "text/plain": [
       "array([[0. , 0. ],\n",
       "       [0.5, 0. ],\n",
       "       [1. , 0. ],\n",
       "       [0. , 1. ],\n",
       "       [0.5, 1. ],\n",
       "       [1. , 1. ]])"
      ]
     },
     "execution_count": 4,
     "metadata": {},
     "output_type": "execute_result"
    }
   ],
   "source": [
    "mesh.coordinates()"
   ]
  },
  {
   "cell_type": "code",
   "execution_count": 5,
   "id": "12eb9a2f",
   "metadata": {},
   "outputs": [
    {
     "data": {
      "text/plain": [
       "[<matplotlib.lines.Line2D at 0x7fb818b6e250>,\n",
       " <matplotlib.lines.Line2D at 0x7fb818b6e610>]"
      ]
     },
     "execution_count": 5,
     "metadata": {},
     "output_type": "execute_result"
    },
    {
     "data": {
      "image/png": "[encoded data removed]",
      "text/plain": [
       "<Figure size 432x288 with 1 Axes>"
      ]
     },
     "metadata": {
      "needs_background": "light"
     },
     "output_type": "display_data"
    }
   ],
   "source": [
    "mesh.coordinates()[0,:] = np.array([0.3, 0.5])\n",
    "dl.plot(mesh)"
   ]
  },
  {
   "cell_type": "code",
   "execution_count": 6,
   "id": "40725902",
   "metadata": {},
   "outputs": [
    {
     "data": {
      "text/plain": [
       "[<matplotlib.lines.Line2D at 0x7fb818bdae20>]"
      ]
     },
     "execution_count": 6,
     "metadata": {},
     "output_type": "execute_result"
    },
    {
     "data": {
      "image/png": "[encoded data removed]",
      "text/plain": [
       "<Figure size 432x288 with 1 Axes>"
      ]
     },
     "metadata": {
      "needs_background": "light"
     },
     "output_type": "display_data"
    }
   ],
   "source": [
    "mesh.cells()\n",
    "dl.plot(mesh)\n",
    "plt.plot(mesh.coordinates()[mesh.cells()[1,:],0], mesh.coordinates()[mesh.cells()[1,:],1], '*r')"
   ]
  },
  {
   "cell_type": "code",
   "execution_count": 7,
   "id": "be7d4351",
   "metadata": {},
   "outputs": [
    {
     "name": "stderr",
     "output_type": "stream",
     "text": [
      "/Users/afzal-admin/opt/anaconda3/envs/fenics_environment/lib/python3.9/site-packages/dolfin/jit/jit.py:46: RuntimeWarning: mpi4py.MPI.Status size changed, may indicate binary incompatibility. Expected 40 from C header, got 48 from PyObject\n",
      "  if MPI.size(mpi_comm) == 1:\n",
      "/Users/afzal-admin/opt/anaconda3/envs/fenics_environment/lib/python3.9/site-packages/dolfin/jit/jit.py:46: RuntimeWarning: mpi4py.MPI.Datatype size changed, may indicate binary incompatibility. Expected 24 from C header, got 32 from PyObject\n",
      "  if MPI.size(mpi_comm) == 1:\n",
      "/Users/afzal-admin/opt/anaconda3/envs/fenics_environment/lib/python3.9/site-packages/dolfin/jit/jit.py:46: RuntimeWarning: mpi4py.MPI.Request size changed, may indicate binary incompatibility. Expected 32 from C header, got 40 from PyObject\n",
      "  if MPI.size(mpi_comm) == 1:\n",
      "/Users/afzal-admin/opt/anaconda3/envs/fenics_environment/lib/python3.9/site-packages/dolfin/jit/jit.py:46: RuntimeWarning: mpi4py.MPI.Prequest size changed, may indicate binary incompatibility. Expected 32 from C header, got 40 from PyObject\n",
      "  if MPI.size(mpi_comm) == 1:\n",
      "/Users/afzal-admin/opt/anaconda3/envs/fenics_environment/lib/python3.9/site-packages/dolfin/jit/jit.py:46: RuntimeWarning: mpi4py.MPI.Grequest size changed, may indicate binary incompatibility. Expected 40 from C header, got 48 from PyObject\n",
      "  if MPI.size(mpi_comm) == 1:\n",
      "/Users/afzal-admin/opt/anaconda3/envs/fenics_environment/lib/python3.9/site-packages/dolfin/jit/jit.py:46: RuntimeWarning: mpi4py.MPI.Message size changed, may indicate binary incompatibility. Expected 32 from C header, got 40 from PyObject\n",
      "  if MPI.size(mpi_comm) == 1:\n",
      "/Users/afzal-admin/opt/anaconda3/envs/fenics_environment/lib/python3.9/site-packages/dolfin/jit/jit.py:46: RuntimeWarning: mpi4py.MPI.Op size changed, may indicate binary incompatibility. Expected 40 from C header, got 48 from PyObject\n",
      "  if MPI.size(mpi_comm) == 1:\n",
      "/Users/afzal-admin/opt/anaconda3/envs/fenics_environment/lib/python3.9/site-packages/dolfin/jit/jit.py:46: RuntimeWarning: mpi4py.MPI.Group size changed, may indicate binary incompatibility. Expected 24 from C header, got 32 from PyObject\n",
      "  if MPI.size(mpi_comm) == 1:\n",
      "/Users/afzal-admin/opt/anaconda3/envs/fenics_environment/lib/python3.9/site-packages/dolfin/jit/jit.py:46: RuntimeWarning: mpi4py.MPI.Info size changed, may indicate binary incompatibility. Expected 24 from C header, got 32 from PyObject\n",
      "  if MPI.size(mpi_comm) == 1:\n",
      "/Users/afzal-admin/opt/anaconda3/envs/fenics_environment/lib/python3.9/site-packages/dolfin/jit/jit.py:46: RuntimeWarning: mpi4py.MPI.Errhandler size changed, may indicate binary incompatibility. Expected 24 from C header, got 32 from PyObject\n",
      "  if MPI.size(mpi_comm) == 1:\n",
      "/Users/afzal-admin/opt/anaconda3/envs/fenics_environment/lib/python3.9/site-packages/dolfin/jit/jit.py:46: RuntimeWarning: mpi4py.MPI.Comm size changed, may indicate binary incompatibility. Expected 24 from C header, got 32 from PyObject\n",
      "  if MPI.size(mpi_comm) == 1:\n",
      "/Users/afzal-admin/opt/anaconda3/envs/fenics_environment/lib/python3.9/site-packages/dolfin/jit/jit.py:46: RuntimeWarning: mpi4py.MPI.Intracomm size changed, may indicate binary incompatibility. Expected 24 from C header, got 32 from PyObject\n",
      "  if MPI.size(mpi_comm) == 1:\n",
      "/Users/afzal-admin/opt/anaconda3/envs/fenics_environment/lib/python3.9/site-packages/dolfin/jit/jit.py:46: RuntimeWarning: mpi4py.MPI.Topocomm size changed, may indicate binary incompatibility. Expected 24 from C header, got 32 from PyObject\n",
      "  if MPI.size(mpi_comm) == 1:\n",
      "/Users/afzal-admin/opt/anaconda3/envs/fenics_environment/lib/python3.9/site-packages/dolfin/jit/jit.py:46: RuntimeWarning: mpi4py.MPI.Cartcomm size changed, may indicate binary incompatibility. Expected 24 from C header, got 32 from PyObject\n",
      "  if MPI.size(mpi_comm) == 1:\n",
      "/Users/afzal-admin/opt/anaconda3/envs/fenics_environment/lib/python3.9/site-packages/dolfin/jit/jit.py:46: RuntimeWarning: mpi4py.MPI.Graphcomm size changed, may indicate binary incompatibility. Expected 24 from C header, got 32 from PyObject\n",
      "  if MPI.size(mpi_comm) == 1:\n",
      "/Users/afzal-admin/opt/anaconda3/envs/fenics_environment/lib/python3.9/site-packages/dolfin/jit/jit.py:46: RuntimeWarning: mpi4py.MPI.Distgraphcomm size changed, may indicate binary incompatibility. Expected 24 from C header, got 32 from PyObject\n",
      "  if MPI.size(mpi_comm) == 1:\n",
      "/Users/afzal-admin/opt/anaconda3/envs/fenics_environment/lib/python3.9/site-packages/dolfin/jit/jit.py:46: RuntimeWarning: mpi4py.MPI.Intercomm size changed, may indicate binary incompatibility. Expected 24 from C header, got 32 from PyObject\n",
      "  if MPI.size(mpi_comm) == 1:\n",
      "/Users/afzal-admin/opt/anaconda3/envs/fenics_environment/lib/python3.9/site-packages/dolfin/jit/jit.py:46: RuntimeWarning: mpi4py.MPI.Win size changed, may indicate binary incompatibility. Expected 32 from C header, got 40 from PyObject\n",
      "  if MPI.size(mpi_comm) == 1:\n",
      "/Users/afzal-admin/opt/anaconda3/envs/fenics_environment/lib/python3.9/site-packages/dolfin/jit/jit.py:46: RuntimeWarning: mpi4py.MPI.File size changed, may indicate binary incompatibility. Expected 32 from C header, got 40 from PyObject\n",
      "  if MPI.size(mpi_comm) == 1:\n"
     ]
    },
    {
     "data": {
      "text/plain": [
       "6"
      ]
     },
     "execution_count": 7,
     "metadata": {},
     "output_type": "execute_result"
    }
   ],
   "source": [
    "Vh = dl.FunctionSpace(mesh, 'CG', 1)\n",
    "Vh.dim()"
   ]
  },
  {
   "cell_type": "code",
   "execution_count": 8,
   "id": "0d0c2b80",
   "metadata": {},
   "outputs": [
    {
     "data": {
      "text/plain": [
       "<matplotlib.tri.tricontour.TriContourSet at 0x7fb818cee520>"
      ]
     },
     "execution_count": 8,
     "metadata": {},
     "output_type": "execute_result"
    },
    {
     "data": {
      "image/png": "[encoded data removed]",
      "text/plain": [
       "<Figure size 432x288 with 1 Axes>"
      ]
     },
     "metadata": {
      "needs_background": "light"
     },
     "output_type": "display_data"
    }
   ],
   "source": [
    "f = dl.Function(Vh)\n",
    "dl.plot(f)"
   ]
  },
  {
   "cell_type": "code",
   "execution_count": 9,
   "id": "88027713",
   "metadata": {},
   "outputs": [
    {
     "data": {
      "text/plain": [
       "<matplotlib.tri.tricontour.TriContourSet at 0x7fb818e95d00>"
      ]
     },
     "execution_count": 9,
     "metadata": {},
     "output_type": "execute_result"
    },
    {
     "data": {
      "image/png": "[encoded data removed]",
      "text/plain": [
       "<Figure size 432x288 with 1 Axes>"
      ]
     },
     "metadata": {
      "needs_background": "light"
     },
     "output_type": "display_data"
    }
   ],
   "source": [
    "f.vector()[0] = 1.\n",
    "dl.plot(f)"
   ]
  },
  {
   "cell_type": "code",
   "execution_count": 10,
   "id": "ddfa114b",
   "metadata": {},
   "outputs": [
    {
     "data": {
      "text/plain": [
       "<matplotlib.tri.tricontour.TriContourSet at 0x7fb818fbf6d0>"
      ]
     },
     "execution_count": 10,
     "metadata": {},
     "output_type": "execute_result"
    },
    {
     "data": {
      "image/png": "[encoded data removed]",
      "text/plain": [
       "<Figure size 432x288 with 1 Axes>"
      ]
     },
     "metadata": {
      "needs_background": "light"
     },
     "output_type": "display_data"
    }
   ],
   "source": [
    "f.vector()[4] = 2.\n",
    "dl.plot(f)"
   ]
  },
  {
   "cell_type": "code",
   "execution_count": 11,
   "id": "5d559482",
   "metadata": {},
   "outputs": [
    {
     "data": {
      "text/plain": [
       "array([1., 0., 0., 0., 2., 0.])"
      ]
     },
     "execution_count": 11,
     "metadata": {},
     "output_type": "execute_result"
    }
   ],
   "source": [
    "f.vector()[:]"
   ]
  },
  {
   "cell_type": "code",
   "execution_count": 12,
   "id": "d1fdba0b",
   "metadata": {},
   "outputs": [
    {
     "data": {
      "text/plain": [
       "0.40000000000000013"
      ]
     },
     "execution_count": 12,
     "metadata": {},
     "output_type": "execute_result"
    }
   ],
   "source": [
    "f(0.3, 1.0)"
   ]
  },
  {
   "cell_type": "code",
   "execution_count": 13,
   "id": "e4b49db7",
   "metadata": {},
   "outputs": [
    {
     "data": {
      "text/plain": [
       "1.6"
      ]
     },
     "execution_count": 13,
     "metadata": {},
     "output_type": "execute_result"
    }
   ],
   "source": [
    "f(0.9, 0.9)"
   ]
  },
  {
   "cell_type": "code",
   "execution_count": 14,
   "id": "ffd1afdd",
   "metadata": {},
   "outputs": [
    {
     "data": {
      "text/plain": [
       "array([[0. , 1. ],\n",
       "       [0.3, 0.5],\n",
       "       [0.5, 1. ],\n",
       "       [0.5, 0. ],\n",
       "       [1. , 1. ],\n",
       "       [1. , 0. ]])"
      ]
     },
     "execution_count": 14,
     "metadata": {},
     "output_type": "execute_result"
    }
   ],
   "source": [
    "Vh.tabulate_dof_coordinates()"
   ]
  },
  {
   "cell_type": "code",
   "execution_count": 15,
   "id": "21c6149a",
   "metadata": {},
   "outputs": [
    {
     "data": {
      "text/plain": [
       "<matplotlib.tri.tricontour.TriContourSet at 0x7fb8190e7310>"
      ]
     },
     "execution_count": 15,
     "metadata": {},
     "output_type": "execute_result"
    },
    {
     "data": {
      "image/png": "[encoded data removed]",
      "text/plain": [
       "<Figure size 432x288 with 1 Axes>"
      ]
     },
     "metadata": {
      "needs_background": "light"
     },
     "output_type": "display_data"
    }
   ],
   "source": [
    "mesh = dl.UnitSquareMesh(10,10)\n",
    "Vh = dl.FunctionSpace(mesh, 'CG', 1) # Continuous piecewise linear\n",
    "# V = dl.FunctionSpace(mesh, 'CG', 2) # higher order CG element (quadratic)\n",
    "\n",
    "E = dl.Expression('sin(pi*pow(x[0],2))*cos(pi*x[1])', degree=3)\n",
    "dl.plot(E, mesh=mesh)"
   ]
  },
  {
   "cell_type": "code",
   "execution_count": 16,
   "id": "dfa06400",
   "metadata": {},
   "outputs": [
    {
     "data": {
      "text/plain": [
       "<matplotlib.tri.tricontour.TriContourSet at 0x7fb8192e6610>"
      ]
     },
     "execution_count": 16,
     "metadata": {},
     "output_type": "execute_result"
    },
    {
     "data": {
      "image/png": "[encoded data removed]",
      "text/plain": [
       "<Figure size 432x288 with 1 Axes>"
      ]
     },
     "metadata": {
      "needs_background": "light"
     },
     "output_type": "display_data"
    }
   ],
   "source": [
    "E_function = dl.interpolate(E, Vh)\n",
    "\n",
    "dl.plot(E_function)"
   ]
  },
  {
   "cell_type": "code",
   "execution_count": 17,
   "id": "1bd272b8",
   "metadata": {},
   "outputs": [
    {
     "data": {
      "text/plain": [
       "-0.21850801222441046"
      ]
     },
     "execution_count": 17,
     "metadata": {},
     "output_type": "execute_result"
    }
   ],
   "source": [
    "E(0.5, 0.6)"
   ]
  },
  {
   "cell_type": "code",
   "execution_count": 18,
   "id": "2b11199d",
   "metadata": {},
   "outputs": [
    {
     "ename": "AttributeError",
     "evalue": "",
     "output_type": "error",
     "traceback": [
      "\u001b[0;31m---------------------------------------------------------------------------\u001b[0m",
      "\u001b[0;31mAttributeError\u001b[0m                            Traceback (most recent call last)",
      "\u001b[0;32m/var/folders/17/k_zh2ys92xvdfdqcy0k40lhw0000gp/T/ipykernel_35477/87751256.py\u001b[0m in \u001b[0;36m<module>\u001b[0;34m\u001b[0m\n\u001b[0;32m----> 1\u001b[0;31m \u001b[0mE\u001b[0m\u001b[0;34m.\u001b[0m\u001b[0mvector\u001b[0m\u001b[0;34m(\u001b[0m\u001b[0;34m)\u001b[0m\u001b[0;34m[\u001b[0m\u001b[0;34m:\u001b[0m\u001b[0;34m]\u001b[0m\u001b[0;34m\u001b[0m\u001b[0;34m\u001b[0m\u001b[0m\n\u001b[0m",
      "\u001b[0;32m~/opt/anaconda3/envs/fenics_environment/lib/python3.9/site-packages/dolfin/function/expression.py\u001b[0m in \u001b[0;36m__getattr__\u001b[0;34m(self, name)\u001b[0m\n\u001b[1;32m    430\u001b[0m             \u001b[0;32mreturn\u001b[0m \u001b[0mself\u001b[0m\u001b[0;34m.\u001b[0m\u001b[0m_parameters\u001b[0m\u001b[0;34m\u001b[0m\u001b[0;34m\u001b[0m\u001b[0m\n\u001b[1;32m    431\u001b[0m         \u001b[0;32melse\u001b[0m\u001b[0;34m:\u001b[0m\u001b[0;34m\u001b[0m\u001b[0;34m\u001b[0m\u001b[0m\n\u001b[0;32m--> 432\u001b[0;31m             \u001b[0;32mreturn\u001b[0m \u001b[0mself\u001b[0m\u001b[0;34m.\u001b[0m\u001b[0m_parameters\u001b[0m\u001b[0;34m[\u001b[0m\u001b[0mname\u001b[0m\u001b[0;34m]\u001b[0m\u001b[0;34m\u001b[0m\u001b[0;34m\u001b[0m\u001b[0m\n\u001b[0m\u001b[1;32m    433\u001b[0m \u001b[0;34m\u001b[0m\u001b[0m\n\u001b[1;32m    434\u001b[0m     \u001b[0;32mdef\u001b[0m \u001b[0m__setattr__\u001b[0m\u001b[0;34m(\u001b[0m\u001b[0mself\u001b[0m\u001b[0;34m,\u001b[0m \u001b[0mname\u001b[0m\u001b[0;34m,\u001b[0m \u001b[0mvalue\u001b[0m\u001b[0;34m)\u001b[0m\u001b[0;34m:\u001b[0m\u001b[0;34m\u001b[0m\u001b[0;34m\u001b[0m\u001b[0m\n",
      "\u001b[0;32m~/opt/anaconda3/envs/fenics_environment/lib/python3.9/site-packages/dolfin/function/expression.py\u001b[0m in \u001b[0;36m__getitem__\u001b[0;34m(self, key)\u001b[0m\n\u001b[1;32m    291\u001b[0m                 \u001b[0;32mreturn\u001b[0m \u001b[0mself\u001b[0m\u001b[0;34m.\u001b[0m\u001b[0m_cpp_object\u001b[0m\u001b[0;34m.\u001b[0m\u001b[0mget_generic_function\u001b[0m\u001b[0;34m(\u001b[0m\u001b[0mkey\u001b[0m\u001b[0;34m)\u001b[0m\u001b[0;34m\u001b[0m\u001b[0;34m\u001b[0m\u001b[0m\n\u001b[1;32m    292\u001b[0m         \u001b[0;32melse\u001b[0m\u001b[0;34m:\u001b[0m\u001b[0;34m\u001b[0m\u001b[0;34m\u001b[0m\u001b[0m\n\u001b[0;32m--> 293\u001b[0;31m             \u001b[0;32mraise\u001b[0m \u001b[0mAttributeError\u001b[0m\u001b[0;34m\u001b[0m\u001b[0;34m\u001b[0m\u001b[0m\n\u001b[0m\u001b[1;32m    294\u001b[0m \u001b[0;34m\u001b[0m\u001b[0m\n\u001b[1;32m    295\u001b[0m     \u001b[0;32mdef\u001b[0m \u001b[0m__setitem__\u001b[0m\u001b[0;34m(\u001b[0m\u001b[0mself\u001b[0m\u001b[0;34m,\u001b[0m \u001b[0mkey\u001b[0m\u001b[0;34m,\u001b[0m \u001b[0mvalue\u001b[0m\u001b[0;34m)\u001b[0m\u001b[0;34m:\u001b[0m\u001b[0;34m\u001b[0m\u001b[0;34m\u001b[0m\u001b[0m\n",
      "\u001b[0;31mAttributeError\u001b[0m: "
     ]
    }
   ],
   "source": [
    "E.vector()[:]"
   ]
  },
  {
   "cell_type": "markdown",
   "id": "30446908",
   "metadata": {},
   "source": [
    "# Solving poisson PDE\n",
    "\n",
    "We want to solve \n",
    "\n",
    "$$\\Delta u = f \\quad \\text{in   } \\Omega$$\n",
    "\n",
    "where $\\Omega = [0,1]$. With B.C.'s $u(0) = 2.5$ and $u(1)=23$"
   ]
  },
  {
   "cell_type": "code",
   "execution_count": null,
   "id": "9ff0e881",
   "metadata": {},
   "outputs": [],
   "source": [
    "mesh = dl.UnitIntervalMesh(5)\n",
    "dl.plot(mesh)"
   ]
  },
  {
   "cell_type": "code",
   "execution_count": null,
   "id": "f811b671",
   "metadata": {},
   "outputs": [],
   "source": [
    "Vh = dl.FunctionSpace(mesh, 'CG', 1)\n",
    "f = dl.Function(Vh)\n",
    "f.vector()[0] = 2.\n",
    "f.vector()[3] = -1\n",
    "dl.plot(f)"
   ]
  },
  {
   "cell_type": "markdown",
   "id": "d4d8f44d",
   "metadata": {},
   "source": [
    "weak form\n",
    "\n",
    "$$\\int_\\Omega \\nabla u \\cdot \\nabla \\hat{u} dx$$"
   ]
  },
  {
   "cell_type": "code",
   "execution_count": null,
   "id": "58591c0e",
   "metadata": {},
   "outputs": [],
   "source": [
    "stiffness_form = dl.inner(dl.grad(dl.TrialFunction(Vh)), dl.grad(dl.TestFunction(Vh))) * dl.dx"
   ]
  },
  {
   "cell_type": "code",
   "execution_count": null,
   "id": "db06b0dd",
   "metadata": {
    "scrolled": true
   },
   "outputs": [],
   "source": [
    "print(stiffness_form)"
   ]
  },
  {
   "cell_type": "markdown",
   "id": "dae722cd",
   "metadata": {},
   "source": [
    "$$K_{ij} = \\int_\\Omega \\nabla \\phi_i \\cdot \\nabla \\phi_j dx$$"
   ]
  },
  {
   "cell_type": "code",
   "execution_count": null,
   "id": "d8eb6636",
   "metadata": {
    "scrolled": true
   },
   "outputs": [],
   "source": [
    "K = dl.assemble(stiffness_form)\n",
    "K.array()"
   ]
  },
  {
   "cell_type": "markdown",
   "id": "b8e2dd80",
   "metadata": {},
   "source": [
    "$$Ku=b$$\n",
    "\n",
    "$$b_i = \\int_\\Omega f \\phi_i dx$$"
   ]
  },
  {
   "cell_type": "code",
   "execution_count": null,
   "id": "dbf0015a",
   "metadata": {},
   "outputs": [],
   "source": [
    "rhs_form = f * dl.TestFunction(Vh) * dl.dx\n",
    "print(rhs_form)"
   ]
  },
  {
   "cell_type": "code",
   "execution_count": null,
   "id": "7f773049",
   "metadata": {},
   "outputs": [],
   "source": [
    "f"
   ]
  },
  {
   "cell_type": "code",
   "execution_count": null,
   "id": "f1a7d63b",
   "metadata": {},
   "outputs": [],
   "source": [
    "b = dl.assemble(rhs_form)\n",
    "b[:]"
   ]
  },
  {
   "cell_type": "code",
   "execution_count": null,
   "id": "1318050a",
   "metadata": {},
   "outputs": [],
   "source": [
    "def left_boundary(x, on_boundary):\n",
    "    if (x[0] == 0) and on_boundary:\n",
    "        return True\n",
    "    else:\n",
    "        return False\n",
    "\n",
    "def right_boundary(x, on_boundary):\n",
    "    if (x[0] == 1) and on_boundary:\n",
    "        return True\n",
    "    else:\n",
    "        return False\n",
    "\n",
    "bc_left = dl.DirichletBC(Vh, dl.Constant(2.5), left_boundary)\n",
    "bc_right = dl.DirichletBC(Vh, dl.Constant(23), right_boundary)"
   ]
  },
  {
   "cell_type": "code",
   "execution_count": null,
   "id": "1a57e21d",
   "metadata": {},
   "outputs": [],
   "source": [
    "b[:]"
   ]
  },
  {
   "cell_type": "code",
   "execution_count": null,
   "id": "e980c199",
   "metadata": {},
   "outputs": [],
   "source": [
    "bc_left.apply(b)\n",
    "b[:]"
   ]
  },
  {
   "cell_type": "code",
   "execution_count": null,
   "id": "d77a2338",
   "metadata": {},
   "outputs": [],
   "source": [
    "bc_right.apply(b)\n",
    "b[:]"
   ]
  },
  {
   "cell_type": "code",
   "execution_count": null,
   "id": "a24b145b",
   "metadata": {},
   "outputs": [],
   "source": [
    "K.array()"
   ]
  },
  {
   "cell_type": "code",
   "execution_count": null,
   "id": "f3cf3bb5",
   "metadata": {},
   "outputs": [],
   "source": [
    "bc_left.apply(K)\n",
    "K.array()"
   ]
  },
  {
   "cell_type": "code",
   "execution_count": null,
   "id": "73f4b188",
   "metadata": {},
   "outputs": [],
   "source": [
    "bc_right.apply(K)\n",
    "K.array()"
   ]
  },
  {
   "cell_type": "code",
   "execution_count": null,
   "id": "be052cac",
   "metadata": {},
   "outputs": [],
   "source": [
    "u = dl.Function(Vh)\n",
    "\n",
    "dl.solve(K, u.vector(), b)\n",
    "\n",
    "dl.plot(u)"
   ]
  },
  {
   "cell_type": "code",
   "execution_count": null,
   "id": "e7deafff",
   "metadata": {},
   "outputs": [],
   "source": [
    "f.vector()[:] = f.vector()[:] * 100"
   ]
  },
  {
   "cell_type": "code",
   "execution_count": null,
   "id": "aca2e348",
   "metadata": {},
   "outputs": [],
   "source": [
    "f.vector()[:] = 100*np.ones(Vh.dim())"
   ]
  },
  {
   "cell_type": "code",
   "execution_count": null,
   "id": "20738b16",
   "metadata": {},
   "outputs": [],
   "source": [
    "mesh = dl.UnitIntervalMesh(26)\n",
    "Vh = dl.FunctionSpace(mesh, 'CG', 2)\n",
    "# f = dl.Function(Vh)\n",
    "# f.vector()[:] = 100*np.ones(Vh.dim())\n",
    "f = dl.Expression('-400*sin(5*pi*x[0])', degree=3)\n",
    "kappa = dl.Expression('1+pow(x[0], 2)', degree=3)\n",
    "# kappa = dl.Constant(1.0)\n",
    "\n",
    "stiffness_form = kappa*dl.inner(dl.grad(dl.TrialFunction(Vh)), dl.grad(dl.TestFunction(Vh))) * dl.dx\n",
    "rhs_form = f * dl.TestFunction(Vh) * dl.dx\n",
    "\n",
    "def left_boundary(x, on_boundary):\n",
    "    if (x[0] == 0) and on_boundary:\n",
    "        return True\n",
    "    else:\n",
    "        return False\n",
    "\n",
    "def right_boundary(x, on_boundary):\n",
    "    if (x[0] == 1) and on_boundary:\n",
    "        return True\n",
    "    else:\n",
    "        return False\n",
    "\n",
    "bc_left = dl.DirichletBC(Vh, dl.Constant(2.5), left_boundary)\n",
    "bc_right = dl.DirichletBC(Vh, dl.Constant(23), right_boundary)\n",
    "\n",
    "u = dl.Function(Vh)\n",
    "K = dl.assemble(stiffness_form)\n",
    "b = dl.assemble(rhs_form)\n",
    "\n",
    "bc_left.apply(K)\n",
    "bc_left.apply(b)\n",
    "\n",
    "bc_right.apply(K)\n",
    "bc_right.apply(b)\n",
    "\n",
    "dl.solve(K, u.vector(), b)\n",
    "dl.plot(u)"
   ]
  },
  {
   "cell_type": "code",
   "execution_count": null,
   "id": "d74c032c",
   "metadata": {},
   "outputs": [],
   "source": [
    "dl.plot(f)"
   ]
  }
 ],
 "metadata": {
  "kernelspec": {
   "display_name": "Python 3 (ipykernel)",
   "language": "python",
   "name": "python3"
  },
  "language_info": {
   "codemirror_mode": {
    "name": "ipython",
    "version": 3
   },
   "file_extension": ".py",
   "mimetype": "text/x-python",
   "name": "python",
   "nbconvert_exporter": "python",
   "pygments_lexer": "ipython3",
   "version": "3.9.7"
  }
 },
 "nbformat": 4,
 "nbformat_minor": 5
}
