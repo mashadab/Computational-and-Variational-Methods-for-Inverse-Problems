{
 "cells": [
  {
   "cell_type": "markdown",
   "id": "bf87ade8",
   "metadata": {},
   "source": [
    "# Nonlinear Poisson problem\n",
    "\n",
    "In this example we solve the following Nonlinear Poisson problem with Robin boundary conditions:\n",
    "\n",
    "$$\\begin{cases}\n",
    "-\\nabla \\cdot \\kappa(u)\\nabla u = f & \\text{in}~\\Omega \\\\\n",
    "\\left(\\kappa(u) \\nabla u\\right) \\cdot n + u = 0 & \\text{on}~ \\partial \\Omega\n",
    "\\end{cases}$$\n",
    "\n",
    "where \n",
    "$$\n",
    "\\kappa(u) := 1 + u^2, \\qquad f(x,y) := \\sin(x) \\cos(y),\n",
    "$$\n",
    "and $n$ is the unit normal to the boundary.\n",
    "\n",
    "Mulitplying both sides of the PDE by a test function $v$ and integrating over $\\Omega$ yields\n",
    "$$\n",
    "-\\int_\\Omega v \\nabla \\cdot \\kappa(u)\\nabla u dx = \\int_\\Omega v f dx. \\quad(1)\n",
    "$$\n",
    "By the fundamental theorem of the calculus of variations, and modulo some conditions on the function spaces that $u$ and $v$ reside in, equation (1) holds for all test functions $v$ if and only if $-\\nabla \\cdot \\kappa(u)\\nabla u = f$ holds almost everywhere in $\\Omega$.\n",
    "\n",
    "Integrating the integral on the left hand side of (1) by parts yields\n",
    "$$\n",
    "\\int_\\Omega \\kappa(u) \\nabla v \\cdot \\nabla u dx - \\int_{\\partial \\Omega} v \\left(\\kappa(u) \\nabla u\\right) \\cdot n ds  = \\int_\\Omega v f dx. \\quad(2)\n",
    "$$\n",
    "Using the Robin boundary conditions in the second term on the left hand side of (2), we arrive at the following weak form of the PDE:\n",
    "$$\n",
    "\\int_\\Omega \\kappa(u) \\nabla v \\cdot \\nabla u dx + \\int_{\\partial \\Omega} v u ds  = \\int_\\Omega v f dx. \\quad(3)\n",
    "$$\n",
    "\n",
    "\n"
   ]
  },
  {
   "cell_type": "code",
   "execution_count": 1,
   "id": "5f1b6dbd",
   "metadata": {},
   "outputs": [
    {
     "data": {
      "text/plain": [
       "<matplotlib.tri.tricontour.TriContourSet at 0x7ff368032a60>"
      ]
     },
     "execution_count": 1,
     "metadata": {},
     "output_type": "execute_result"
    },
    {
     "data": {
      "image/png": "[encoded data removed]",
      "text/plain": [
       "<Figure size 432x288 with 1 Axes>"
      ]
     },
     "metadata": {
      "needs_background": "light"
     },
     "output_type": "display_data"
    }
   ],
   "source": [
    "import numpy as np\n",
    "import dolfin as dl\n",
    "\n",
    "mesh = dl.UnitSquareMesh(20,20) # 20x20 grid of cells in the mesh\n",
    "V = dl.FunctionSpace(mesh, 'CG', 1)\n",
    "\n",
    "u = dl.Function(V)\n",
    "v_test = dl.TestFunction(V)\n",
    "\n",
    "f = dl.Expression('sin(x[0])*cos(x[1])', degree=3)\n",
    "kappa = dl.Constant(1.0) + u**2\n",
    "\n",
    "stiffness_form_term1 = kappa * dl.inner(dl.grad(u), dl.grad(v_test)) * dl.dx # dx means integrate over the domain\n",
    "stiffness_form_term2 = u * v_test * dl.ds # ds means integrate over the boundary\n",
    "rhs_form = f * v_test * dl.dx\n",
    "F = stiffness_form_term1 + stiffness_form_term2 - rhs_form\n",
    "\n",
    "bcs = [] # no essential boundary conditions (Robin bcs taken care of by variational form)\n",
    "\n",
    "dl.solve(F == 0, u, bcs, solver_parameters={\"newton_solver\": {\"relative_tolerance\": 1e-6}})\n",
    "\n",
    "dl.plot(u)"
   ]
  },
  {
   "cell_type": "markdown",
   "id": "94aff337",
   "metadata": {},
   "source": [
    "Some other resources are here:\n",
    "\n",
    "http://home.simula.no/~hpl/homepage/fenics-tutorial/release-1.0-nonabla/webm/nonlinear.html\n",
    "\n",
    "https://fenicsproject.org/olddocs/dolfin/1.4.0/python/demo/documented/nonlinear-poisson/python/documentation.html\n",
    "\n",
    "Note that the code at these websites is out of date, and requires minor modifications to get it to run."
   ]
  }
 ],
 "metadata": {
  "kernelspec": {
   "display_name": "Python 3 (ipykernel)",
   "language": "python",
   "name": "python3"
  },
  "language_info": {
   "codemirror_mode": {
    "name": "ipython",
    "version": 3
   },
   "file_extension": ".py",
   "mimetype": "text/x-python",
   "name": "python",
   "nbconvert_exporter": "python",
   "pygments_lexer": "ipython3",
   "version": "3.9.7"
  }
 },
 "nbformat": 4,
 "nbformat_minor": 5
}
